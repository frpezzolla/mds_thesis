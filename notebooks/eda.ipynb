{
 "cells": [
  {
   "cell_type": "markdown",
   "id": "ba42f9c4",
   "metadata": {},
   "source": [
    "# EDA CEP"
   ]
  },
  {
   "cell_type": "code",
   "execution_count": 1,
   "id": "18fc36b3",
   "metadata": {},
   "outputs": [],
   "source": [
    "import pandas as pd\n",
    "from pathlib import Path\n",
    "import random\n",
    "import matplotlib.pyplot as plt\n",
    "import chardet"
   ]
  },
  {
   "cell_type": "code",
   "execution_count": 2,
   "id": "edb6bae3",
   "metadata": {},
   "outputs": [],
   "source": [
    "# File locations (relative to notebook root)\n",
    "RAW_DATA = Path(\"..\") / \"data\" / \"raw\" / \"cep_base_consolidada_2010_ahora.csv\"\n",
    "RAW_DICT = Path(\"..\") / \"data\" / \"raw\" / \"cep_diccionario_de_variables_base_consolidada.csv\"\n",
    "PERSONS_JSONL = Path(\"..\") / \"data\" / \"cleaned\" / \"cep_persons.jsonl\"\n",
    "\n",
    "# Reproducibility\n",
    "SEED = 42\n",
    "random.seed(SEED)"
   ]
  },
  {
   "cell_type": "code",
   "execution_count": 3,
   "id": "f5b4f69d",
   "metadata": {},
   "outputs": [],
   "source": [
    "# detect character encoding\n",
    "with RAW_DICT.open(\"rb\") as fh:\n",
    "    enc_sample = fh.read(100_000)\n",
    "DICT_ENCODING = chardet.detect(enc_sample)[\"encoding\"]"
   ]
  },
  {
   "cell_type": "code",
   "execution_count": 4,
   "id": "eaa98d65",
   "metadata": {},
   "outputs": [],
   "source": [
    "df_raw = pd.read_csv(RAW_DATA, low_memory=False, encoding=\"utf-8\")\n",
    "df_dict = pd.read_csv(RAW_DICT, low_memory=False, encoding=DICT_ENCODING)"
   ]
  },
  {
   "cell_type": "code",
   "execution_count": 5,
   "id": "d108e795",
   "metadata": {},
   "outputs": [
    {
     "data": {
      "text/html": [
       "<div>\n",
       "<style scoped>\n",
       "    .dataframe tbody tr th:only-of-type {\n",
       "        vertical-align: middle;\n",
       "    }\n",
       "\n",
       "    .dataframe tbody tr th {\n",
       "        vertical-align: top;\n",
       "    }\n",
       "\n",
       "    .dataframe thead th {\n",
       "        text-align: right;\n",
       "    }\n",
       "</style>\n",
       "<table border=\"1\" class=\"dataframe\">\n",
       "  <thead>\n",
       "    <tr style=\"text-align: right;\">\n",
       "      <th></th>\n",
       "      <th>aleatorio_deck</th>\n",
       "      <th>aleatorio_deck_1</th>\n",
       "      <th>aleatorio_deck_2</th>\n",
       "      <th>aleatorio_deck_3</th>\n",
       "      <th>aleatorio_deck_4</th>\n",
       "      <th>anomia_1_a</th>\n",
       "      <th>anomia_1_b</th>\n",
       "      <th>anomia_1_c</th>\n",
       "      <th>anomia_1_d</th>\n",
       "      <th>anomia_1_e</th>\n",
       "      <th>...</th>\n",
       "      <th>vivienda_6_b</th>\n",
       "      <th>vivienda_6_c</th>\n",
       "      <th>vivienda_6_d</th>\n",
       "      <th>vivienda_6_e</th>\n",
       "      <th>vivienda_6_f</th>\n",
       "      <th>vivienda_6_g</th>\n",
       "      <th>vivienda_7</th>\n",
       "      <th>vivienda_8</th>\n",
       "      <th>vivienda_9</th>\n",
       "      <th>zona_u_r</th>\n",
       "    </tr>\n",
       "  </thead>\n",
       "  <tbody>\n",
       "    <tr>\n",
       "      <th>0</th>\n",
       "      <td>NaN</td>\n",
       "      <td>NaN</td>\n",
       "      <td>NaN</td>\n",
       "      <td>NaN</td>\n",
       "      <td>NaN</td>\n",
       "      <td>NaN</td>\n",
       "      <td>NaN</td>\n",
       "      <td>NaN</td>\n",
       "      <td>NaN</td>\n",
       "      <td>NaN</td>\n",
       "      <td>...</td>\n",
       "      <td>NaN</td>\n",
       "      <td>NaN</td>\n",
       "      <td>NaN</td>\n",
       "      <td>NaN</td>\n",
       "      <td>NaN</td>\n",
       "      <td>NaN</td>\n",
       "      <td>NaN</td>\n",
       "      <td>NaN</td>\n",
       "      <td>NaN</td>\n",
       "      <td>1.0</td>\n",
       "    </tr>\n",
       "    <tr>\n",
       "      <th>1</th>\n",
       "      <td>NaN</td>\n",
       "      <td>NaN</td>\n",
       "      <td>NaN</td>\n",
       "      <td>NaN</td>\n",
       "      <td>NaN</td>\n",
       "      <td>NaN</td>\n",
       "      <td>NaN</td>\n",
       "      <td>NaN</td>\n",
       "      <td>NaN</td>\n",
       "      <td>NaN</td>\n",
       "      <td>...</td>\n",
       "      <td>NaN</td>\n",
       "      <td>NaN</td>\n",
       "      <td>NaN</td>\n",
       "      <td>NaN</td>\n",
       "      <td>NaN</td>\n",
       "      <td>NaN</td>\n",
       "      <td>NaN</td>\n",
       "      <td>NaN</td>\n",
       "      <td>NaN</td>\n",
       "      <td>1.0</td>\n",
       "    </tr>\n",
       "    <tr>\n",
       "      <th>2</th>\n",
       "      <td>NaN</td>\n",
       "      <td>NaN</td>\n",
       "      <td>NaN</td>\n",
       "      <td>NaN</td>\n",
       "      <td>NaN</td>\n",
       "      <td>NaN</td>\n",
       "      <td>NaN</td>\n",
       "      <td>NaN</td>\n",
       "      <td>NaN</td>\n",
       "      <td>NaN</td>\n",
       "      <td>...</td>\n",
       "      <td>NaN</td>\n",
       "      <td>NaN</td>\n",
       "      <td>NaN</td>\n",
       "      <td>NaN</td>\n",
       "      <td>NaN</td>\n",
       "      <td>NaN</td>\n",
       "      <td>NaN</td>\n",
       "      <td>NaN</td>\n",
       "      <td>NaN</td>\n",
       "      <td>1.0</td>\n",
       "    </tr>\n",
       "    <tr>\n",
       "      <th>3</th>\n",
       "      <td>NaN</td>\n",
       "      <td>NaN</td>\n",
       "      <td>NaN</td>\n",
       "      <td>NaN</td>\n",
       "      <td>NaN</td>\n",
       "      <td>NaN</td>\n",
       "      <td>NaN</td>\n",
       "      <td>NaN</td>\n",
       "      <td>NaN</td>\n",
       "      <td>NaN</td>\n",
       "      <td>...</td>\n",
       "      <td>NaN</td>\n",
       "      <td>NaN</td>\n",
       "      <td>NaN</td>\n",
       "      <td>NaN</td>\n",
       "      <td>NaN</td>\n",
       "      <td>NaN</td>\n",
       "      <td>NaN</td>\n",
       "      <td>NaN</td>\n",
       "      <td>NaN</td>\n",
       "      <td>1.0</td>\n",
       "    </tr>\n",
       "    <tr>\n",
       "      <th>4</th>\n",
       "      <td>NaN</td>\n",
       "      <td>NaN</td>\n",
       "      <td>NaN</td>\n",
       "      <td>NaN</td>\n",
       "      <td>NaN</td>\n",
       "      <td>NaN</td>\n",
       "      <td>NaN</td>\n",
       "      <td>NaN</td>\n",
       "      <td>NaN</td>\n",
       "      <td>NaN</td>\n",
       "      <td>...</td>\n",
       "      <td>NaN</td>\n",
       "      <td>NaN</td>\n",
       "      <td>NaN</td>\n",
       "      <td>NaN</td>\n",
       "      <td>NaN</td>\n",
       "      <td>NaN</td>\n",
       "      <td>NaN</td>\n",
       "      <td>NaN</td>\n",
       "      <td>NaN</td>\n",
       "      <td>1.0</td>\n",
       "    </tr>\n",
       "    <tr>\n",
       "      <th>...</th>\n",
       "      <td>...</td>\n",
       "      <td>...</td>\n",
       "      <td>...</td>\n",
       "      <td>...</td>\n",
       "      <td>...</td>\n",
       "      <td>...</td>\n",
       "      <td>...</td>\n",
       "      <td>...</td>\n",
       "      <td>...</td>\n",
       "      <td>...</td>\n",
       "      <td>...</td>\n",
       "      <td>...</td>\n",
       "      <td>...</td>\n",
       "      <td>...</td>\n",
       "      <td>...</td>\n",
       "      <td>...</td>\n",
       "      <td>...</td>\n",
       "      <td>...</td>\n",
       "      <td>...</td>\n",
       "      <td>...</td>\n",
       "      <td>...</td>\n",
       "    </tr>\n",
       "    <tr>\n",
       "      <th>39935</th>\n",
       "      <td>NaN</td>\n",
       "      <td>NaN</td>\n",
       "      <td>NaN</td>\n",
       "      <td>NaN</td>\n",
       "      <td>NaN</td>\n",
       "      <td>NaN</td>\n",
       "      <td>NaN</td>\n",
       "      <td>NaN</td>\n",
       "      <td>NaN</td>\n",
       "      <td>NaN</td>\n",
       "      <td>...</td>\n",
       "      <td>NaN</td>\n",
       "      <td>NaN</td>\n",
       "      <td>NaN</td>\n",
       "      <td>NaN</td>\n",
       "      <td>NaN</td>\n",
       "      <td>NaN</td>\n",
       "      <td>NaN</td>\n",
       "      <td>NaN</td>\n",
       "      <td>NaN</td>\n",
       "      <td>1.0</td>\n",
       "    </tr>\n",
       "    <tr>\n",
       "      <th>39936</th>\n",
       "      <td>NaN</td>\n",
       "      <td>NaN</td>\n",
       "      <td>NaN</td>\n",
       "      <td>NaN</td>\n",
       "      <td>NaN</td>\n",
       "      <td>NaN</td>\n",
       "      <td>NaN</td>\n",
       "      <td>NaN</td>\n",
       "      <td>NaN</td>\n",
       "      <td>NaN</td>\n",
       "      <td>...</td>\n",
       "      <td>NaN</td>\n",
       "      <td>NaN</td>\n",
       "      <td>NaN</td>\n",
       "      <td>NaN</td>\n",
       "      <td>NaN</td>\n",
       "      <td>NaN</td>\n",
       "      <td>NaN</td>\n",
       "      <td>NaN</td>\n",
       "      <td>NaN</td>\n",
       "      <td>1.0</td>\n",
       "    </tr>\n",
       "    <tr>\n",
       "      <th>39937</th>\n",
       "      <td>NaN</td>\n",
       "      <td>NaN</td>\n",
       "      <td>NaN</td>\n",
       "      <td>NaN</td>\n",
       "      <td>NaN</td>\n",
       "      <td>NaN</td>\n",
       "      <td>NaN</td>\n",
       "      <td>NaN</td>\n",
       "      <td>NaN</td>\n",
       "      <td>NaN</td>\n",
       "      <td>...</td>\n",
       "      <td>NaN</td>\n",
       "      <td>NaN</td>\n",
       "      <td>NaN</td>\n",
       "      <td>NaN</td>\n",
       "      <td>NaN</td>\n",
       "      <td>NaN</td>\n",
       "      <td>NaN</td>\n",
       "      <td>NaN</td>\n",
       "      <td>NaN</td>\n",
       "      <td>2.0</td>\n",
       "    </tr>\n",
       "    <tr>\n",
       "      <th>39938</th>\n",
       "      <td>NaN</td>\n",
       "      <td>NaN</td>\n",
       "      <td>NaN</td>\n",
       "      <td>NaN</td>\n",
       "      <td>NaN</td>\n",
       "      <td>NaN</td>\n",
       "      <td>NaN</td>\n",
       "      <td>NaN</td>\n",
       "      <td>NaN</td>\n",
       "      <td>NaN</td>\n",
       "      <td>...</td>\n",
       "      <td>NaN</td>\n",
       "      <td>NaN</td>\n",
       "      <td>NaN</td>\n",
       "      <td>NaN</td>\n",
       "      <td>NaN</td>\n",
       "      <td>NaN</td>\n",
       "      <td>NaN</td>\n",
       "      <td>NaN</td>\n",
       "      <td>NaN</td>\n",
       "      <td>1.0</td>\n",
       "    </tr>\n",
       "    <tr>\n",
       "      <th>39939</th>\n",
       "      <td>NaN</td>\n",
       "      <td>NaN</td>\n",
       "      <td>NaN</td>\n",
       "      <td>NaN</td>\n",
       "      <td>NaN</td>\n",
       "      <td>NaN</td>\n",
       "      <td>NaN</td>\n",
       "      <td>NaN</td>\n",
       "      <td>NaN</td>\n",
       "      <td>NaN</td>\n",
       "      <td>...</td>\n",
       "      <td>NaN</td>\n",
       "      <td>NaN</td>\n",
       "      <td>NaN</td>\n",
       "      <td>NaN</td>\n",
       "      <td>NaN</td>\n",
       "      <td>NaN</td>\n",
       "      <td>NaN</td>\n",
       "      <td>NaN</td>\n",
       "      <td>NaN</td>\n",
       "      <td>NaN</td>\n",
       "    </tr>\n",
       "  </tbody>\n",
       "</table>\n",
       "<p>39940 rows × 4390 columns</p>\n",
       "</div>"
      ],
      "text/plain": [
       "       aleatorio_deck  aleatorio_deck_1  aleatorio_deck_2  aleatorio_deck_3  \\\n",
       "0                 NaN               NaN               NaN               NaN   \n",
       "1                 NaN               NaN               NaN               NaN   \n",
       "2                 NaN               NaN               NaN               NaN   \n",
       "3                 NaN               NaN               NaN               NaN   \n",
       "4                 NaN               NaN               NaN               NaN   \n",
       "...               ...               ...               ...               ...   \n",
       "39935             NaN               NaN               NaN               NaN   \n",
       "39936             NaN               NaN               NaN               NaN   \n",
       "39937             NaN               NaN               NaN               NaN   \n",
       "39938             NaN               NaN               NaN               NaN   \n",
       "39939             NaN               NaN               NaN               NaN   \n",
       "\n",
       "       aleatorio_deck_4  anomia_1_a  anomia_1_b  anomia_1_c  anomia_1_d  \\\n",
       "0                   NaN         NaN         NaN         NaN         NaN   \n",
       "1                   NaN         NaN         NaN         NaN         NaN   \n",
       "2                   NaN         NaN         NaN         NaN         NaN   \n",
       "3                   NaN         NaN         NaN         NaN         NaN   \n",
       "4                   NaN         NaN         NaN         NaN         NaN   \n",
       "...                 ...         ...         ...         ...         ...   \n",
       "39935               NaN         NaN         NaN         NaN         NaN   \n",
       "39936               NaN         NaN         NaN         NaN         NaN   \n",
       "39937               NaN         NaN         NaN         NaN         NaN   \n",
       "39938               NaN         NaN         NaN         NaN         NaN   \n",
       "39939               NaN         NaN         NaN         NaN         NaN   \n",
       "\n",
       "       anomia_1_e  ...  vivienda_6_b  vivienda_6_c  vivienda_6_d  \\\n",
       "0             NaN  ...           NaN           NaN           NaN   \n",
       "1             NaN  ...           NaN           NaN           NaN   \n",
       "2             NaN  ...           NaN           NaN           NaN   \n",
       "3             NaN  ...           NaN           NaN           NaN   \n",
       "4             NaN  ...           NaN           NaN           NaN   \n",
       "...           ...  ...           ...           ...           ...   \n",
       "39935         NaN  ...           NaN           NaN           NaN   \n",
       "39936         NaN  ...           NaN           NaN           NaN   \n",
       "39937         NaN  ...           NaN           NaN           NaN   \n",
       "39938         NaN  ...           NaN           NaN           NaN   \n",
       "39939         NaN  ...           NaN           NaN           NaN   \n",
       "\n",
       "       vivienda_6_e  vivienda_6_f  vivienda_6_g  vivienda_7  vivienda_8  \\\n",
       "0               NaN           NaN           NaN         NaN         NaN   \n",
       "1               NaN           NaN           NaN         NaN         NaN   \n",
       "2               NaN           NaN           NaN         NaN         NaN   \n",
       "3               NaN           NaN           NaN         NaN         NaN   \n",
       "4               NaN           NaN           NaN         NaN         NaN   \n",
       "...             ...           ...           ...         ...         ...   \n",
       "39935           NaN           NaN           NaN         NaN         NaN   \n",
       "39936           NaN           NaN           NaN         NaN         NaN   \n",
       "39937           NaN           NaN           NaN         NaN         NaN   \n",
       "39938           NaN           NaN           NaN         NaN         NaN   \n",
       "39939           NaN           NaN           NaN         NaN         NaN   \n",
       "\n",
       "       vivienda_9  zona_u_r  \n",
       "0             NaN       1.0  \n",
       "1             NaN       1.0  \n",
       "2             NaN       1.0  \n",
       "3             NaN       1.0  \n",
       "4             NaN       1.0  \n",
       "...           ...       ...  \n",
       "39935         NaN       1.0  \n",
       "39936         NaN       1.0  \n",
       "39937         NaN       2.0  \n",
       "39938         NaN       1.0  \n",
       "39939         NaN       NaN  \n",
       "\n",
       "[39940 rows x 4390 columns]"
      ]
     },
     "execution_count": 5,
     "metadata": {},
     "output_type": "execute_result"
    }
   ],
   "source": [
    "df_raw"
   ]
  },
  {
   "cell_type": "code",
   "execution_count": 6,
   "id": "f161787a",
   "metadata": {},
   "outputs": [
    {
     "data": {
      "text/html": [
       "<div>\n",
       "<style scoped>\n",
       "    .dataframe tbody tr th:only-of-type {\n",
       "        vertical-align: middle;\n",
       "    }\n",
       "\n",
       "    .dataframe tbody tr th {\n",
       "        vertical-align: top;\n",
       "    }\n",
       "\n",
       "    .dataframe thead th {\n",
       "        text-align: right;\n",
       "    }\n",
       "</style>\n",
       "<table border=\"1\" class=\"dataframe\">\n",
       "  <thead>\n",
       "    <tr style=\"text-align: right;\">\n",
       "      <th></th>\n",
       "      <th>variable</th>\n",
       "      <th>pregunta</th>\n",
       "      <th>alternativa</th>\n",
       "      <th>etiqueta</th>\n",
       "    </tr>\n",
       "  </thead>\n",
       "  <tbody>\n",
       "    <tr>\n",
       "      <th>0</th>\n",
       "      <td>id_bu</td>\n",
       "      <td>ID �nico base consolidada</td>\n",
       "      <td>NaN</td>\n",
       "      <td>NaN</td>\n",
       "    </tr>\n",
       "    <tr>\n",
       "      <th>1</th>\n",
       "      <td>id_bu_encuesta</td>\n",
       "      <td>ID �nico por encuesta</td>\n",
       "      <td>NaN</td>\n",
       "      <td>NaN</td>\n",
       "    </tr>\n",
       "    <tr>\n",
       "      <th>2</th>\n",
       "      <td>encuesta</td>\n",
       "      <td>N�mero encuesta</td>\n",
       "      <td>NaN</td>\n",
       "      <td>NaN</td>\n",
       "    </tr>\n",
       "    <tr>\n",
       "      <th>3</th>\n",
       "      <td>encuesta_a</td>\n",
       "      <td>A�o encuesta</td>\n",
       "      <td>NaN</td>\n",
       "      <td>NaN</td>\n",
       "    </tr>\n",
       "    <tr>\n",
       "      <th>4</th>\n",
       "      <td>encuesta_m</td>\n",
       "      <td>Mes terreno encuesta</td>\n",
       "      <td>NaN</td>\n",
       "      <td>NaN</td>\n",
       "    </tr>\n",
       "    <tr>\n",
       "      <th>...</th>\n",
       "      <td>...</td>\n",
       "      <td>...</td>\n",
       "      <td>...</td>\n",
       "      <td>...</td>\n",
       "    </tr>\n",
       "    <tr>\n",
       "      <th>30686</th>\n",
       "      <td>vivienda_9</td>\n",
       "      <td>Pensando en su caso particular, �dir�a Ud. que...</td>\n",
       "      <td>1.0</td>\n",
       "      <td>Si, han disminuido</td>\n",
       "    </tr>\n",
       "    <tr>\n",
       "      <th>30687</th>\n",
       "      <td>vivienda_9</td>\n",
       "      <td>Pensando en su caso particular, �dir�a Ud. que...</td>\n",
       "      <td>2.0</td>\n",
       "      <td>No han cambiado / han aumentado</td>\n",
       "    </tr>\n",
       "    <tr>\n",
       "      <th>30688</th>\n",
       "      <td>vivienda_9</td>\n",
       "      <td>Pensando en su caso particular, �dir�a Ud. que...</td>\n",
       "      <td>-8.0</td>\n",
       "      <td>No sabe</td>\n",
       "    </tr>\n",
       "    <tr>\n",
       "      <th>30689</th>\n",
       "      <td>zona_u_r</td>\n",
       "      <td>Zona Urbano/Rural</td>\n",
       "      <td>1.0</td>\n",
       "      <td>Urbano</td>\n",
       "    </tr>\n",
       "    <tr>\n",
       "      <th>30690</th>\n",
       "      <td>zona_u_r</td>\n",
       "      <td>Zona Urbano/Rural</td>\n",
       "      <td>2.0</td>\n",
       "      <td>Rural</td>\n",
       "    </tr>\n",
       "  </tbody>\n",
       "</table>\n",
       "<p>30691 rows × 4 columns</p>\n",
       "</div>"
      ],
      "text/plain": [
       "             variable                                           pregunta  \\\n",
       "0               id_bu                          ID �nico base consolidada   \n",
       "1      id_bu_encuesta                              ID �nico por encuesta   \n",
       "2            encuesta                                    N�mero encuesta   \n",
       "3          encuesta_a                                       A�o encuesta   \n",
       "4          encuesta_m                               Mes terreno encuesta   \n",
       "...               ...                                                ...   \n",
       "30686      vivienda_9  Pensando en su caso particular, �dir�a Ud. que...   \n",
       "30687      vivienda_9  Pensando en su caso particular, �dir�a Ud. que...   \n",
       "30688      vivienda_9  Pensando en su caso particular, �dir�a Ud. que...   \n",
       "30689        zona_u_r                                  Zona Urbano/Rural   \n",
       "30690        zona_u_r                                  Zona Urbano/Rural   \n",
       "\n",
       "       alternativa                         etiqueta  \n",
       "0              NaN                              NaN  \n",
       "1              NaN                              NaN  \n",
       "2              NaN                              NaN  \n",
       "3              NaN                              NaN  \n",
       "4              NaN                              NaN  \n",
       "...            ...                              ...  \n",
       "30686          1.0               Si, han disminuido  \n",
       "30687          2.0  No han cambiado / han aumentado  \n",
       "30688         -8.0                          No sabe  \n",
       "30689          1.0                           Urbano  \n",
       "30690          2.0                            Rural  \n",
       "\n",
       "[30691 rows x 4 columns]"
      ]
     },
     "execution_count": 6,
     "metadata": {},
     "output_type": "execute_result"
    }
   ],
   "source": [
    "df_dict"
   ]
  },
  {
   "cell_type": "code",
   "execution_count": 7,
   "id": "b64e68cd",
   "metadata": {},
   "outputs": [
    {
     "data": {
      "text/plain": [
       "corrupcion_23     2.0\n",
       "corrupcion_25     2.0\n",
       "edad             80.0\n",
       "elec_part_4       1.0\n",
       "encuesta         62.0\n",
       "                 ... \n",
       "terremoto_3_d     1.0\n",
       "terremoto_3_e     1.0\n",
       "terremoto_3_f     2.0\n",
       "terremoto_3_g     2.0\n",
       "zona_u_r          1.0\n",
       "Name: 0, Length: 190, dtype: object"
      ]
     },
     "execution_count": 7,
     "metadata": {},
     "output_type": "execute_result"
    }
   ],
   "source": [
    "# how many valid values?\n",
    "df_raw.iloc[0].dropna()"
   ]
  },
  {
   "cell_type": "code",
   "execution_count": 8,
   "id": "ad7a055a",
   "metadata": {},
   "outputs": [],
   "source": [
    "def aux_plot_bar(series, code_labels):\n",
    "    series = series.value_counts().sort_index()\n",
    "    series.index = series.index.astype(int).astype(str).map(code_labels)\n",
    "    return series.plot(kind='bar')"
   ]
  },
  {
   "cell_type": "markdown",
   "id": "d232708a",
   "metadata": {},
   "source": [
    "# Encuesta CEP\n",
    "\n",
    "- I'm using the 2010-Today CEP database.\n",
    "- It starts at N°62 from June/July 2010"
   ]
  },
  {
   "cell_type": "code",
   "execution_count": 34,
   "id": "a2917e21",
   "metadata": {},
   "outputs": [
    {
     "data": {
      "text/plain": [
       "0        NaN\n",
       "1        NaN\n",
       "2        NaN\n",
       "3        NaN\n",
       "4        NaN\n",
       "        ... \n",
       "39935    2.0\n",
       "39936    1.0\n",
       "39937    2.0\n",
       "39938    2.0\n",
       "39939    NaN\n",
       "Name: religion_14, Length: 39940, dtype: float64"
      ]
     },
     "execution_count": 34,
     "metadata": {},
     "output_type": "execute_result"
    }
   ],
   "source": [
    "df_raw['religion_14']"
   ]
  },
  {
   "cell_type": "markdown",
   "id": "14fc050b",
   "metadata": {},
   "source": [
    "## Sexo"
   ]
  },
  {
   "cell_type": "code",
   "execution_count": 9,
   "id": "d5c527b0",
   "metadata": {},
   "outputs": [
    {
     "data": {
      "text/plain": [
       "sexo\n",
       "2.0    24238\n",
       "1.0    15701\n",
       "Name: count, dtype: int64"
      ]
     },
     "execution_count": 9,
     "metadata": {},
     "output_type": "execute_result"
    }
   ],
   "source": [
    "df_raw['sexo'].value_counts()"
   ]
  },
  {
   "cell_type": "code",
   "execution_count": 10,
   "id": "67824685",
   "metadata": {},
   "outputs": [
    {
     "data": {
      "text/plain": [
       "<matplotlib.legend.Legend at 0x7f432d6d70e0>"
      ]
     },
     "execution_count": 10,
     "metadata": {},
     "output_type": "execute_result"
    },
    {
     "data": {
      "image/png": "[encoded data removed]",
      "text/plain": [
       "<Figure size 640x480 with 1 Axes>"
      ]
     },
     "metadata": {},
     "output_type": "display_data"
    }
   ],
   "source": [
    "df = df_raw[['edad','sexo']].dropna()\n",
    "mask = df['sexo'] == 1\n",
    "\n",
    "plt.hist([df[mask]['edad'], df[~mask]['edad']], bins=range(0, 100, 5), edgecolor='black', stacked=True, label=['Hombre', 'Mujer'])\n",
    "plt.title('age distribution')\n",
    "plt.xlabel('age')\n",
    "plt.ylabel('frequency')\n",
    "plt.legend()"
   ]
  },
  {
   "cell_type": "markdown",
   "id": "5de55fb5",
   "metadata": {},
   "source": [
    "## Pobreza"
   ]
  },
  {
   "cell_type": "markdown",
   "id": "0498cfe0",
   "metadata": {},
   "source": [
    "| Código | pobreza_17 (incluye trabajadora) | pobreza_17_a (excluye trabajadora) | pobreza_17_b (incluye trabajadora) |\n",
    "|:------:|:--------------------------------:|:-----------------------------------:|:-----------------------------------:|\n",
    "| **-9** | no contesta                      | no contesta                         | no contesta                         |\n",
    "| **-8** | no sabe                          | no sabe                             | no sabe                             |\n",
    "| **1**  | clase baja                       | clase baja                          | clase baja                          |\n",
    "| **2**  | clase **trabajadora**            | clase media baja                    | clase **trabajadora**               |\n",
    "| **3**  | clase media baja                 | clase media                         | clase media baja                    |\n",
    "| **4**  | clase media                      | clase media alta                    | clase media                         |\n",
    "| **5**  | clase media alta                 | clase alta                          | clase media alta                    |\n",
    "| **6**  | clase alta                       | *(sin este código)*                 | clase alta                          |\n",
    "| **7**  | ninguna de esas                  | *(sin este código)*                 | *(sin este código)*                 |\n"
   ]
  },
  {
   "cell_type": "code",
   "execution_count": 11,
   "id": "7f45ab81",
   "metadata": {},
   "outputs": [],
   "source": [
    "# pob17, pob17a, pob17b = df_raw[['pobreza_17', 'pobreza_17_a', 'pobreza_17_b']].dropna(axis=0, how='all')\n",
    "pob17 = df_raw[['encuesta_a','pobreza_17']].dropna(axis=0, how='any')\n",
    "pob17a = df_raw[['encuesta_a','pobreza_17_a']].dropna(axis=0, how='any')\n",
    "pob17b = df_raw[['encuesta_a','pobreza_17_b']].dropna(axis=0, how='any')"
   ]
  },
  {
   "cell_type": "code",
   "execution_count": 12,
   "id": "c7805425",
   "metadata": {},
   "outputs": [
    {
     "data": {
      "text/plain": [
       "Series([], Name: count, dtype: int64)"
      ]
     },
     "execution_count": 12,
     "metadata": {},
     "output_type": "execute_result"
    }
   ],
   "source": [
    "pob17.value_counts()"
   ]
  },
  {
   "cell_type": "code",
   "execution_count": 13,
   "id": "0e9f401a",
   "metadata": {},
   "outputs": [
    {
     "data": {
      "text/plain": [
       "(encuesta_a  pobreza_17_a\n",
       " 2019.0       2.0            534\n",
       "              3.0            482\n",
       "              1.0            396\n",
       "              4.0             50\n",
       "             -9.0             12\n",
       "             -8.0             11\n",
       "              5.0             11\n",
       " Name: count, dtype: int64,\n",
       " np.int64(1496))"
      ]
     },
     "execution_count": 13,
     "metadata": {},
     "output_type": "execute_result"
    }
   ],
   "source": [
    "pob17a.value_counts(),pob17a.value_counts().sum()"
   ]
  },
  {
   "cell_type": "code",
   "execution_count": 14,
   "id": "60ce58db",
   "metadata": {},
   "outputs": [
    {
     "data": {
      "text/plain": [
       "encuesta_a\n",
       "2019.0    1496\n",
       "Name: count, dtype: int64"
      ]
     },
     "execution_count": 14,
     "metadata": {},
     "output_type": "execute_result"
    }
   ],
   "source": [
    "pob17a['encuesta_a'].value_counts()"
   ]
  },
  {
   "cell_type": "code",
   "execution_count": 15,
   "id": "fc7a7969",
   "metadata": {},
   "outputs": [
    {
     "data": {
      "image/png": "[encoded data removed]",
      "text/plain": [
       "<Figure size 640x480 with 1 Axes>"
      ]
     },
     "metadata": {},
     "output_type": "display_data"
    }
   ],
   "source": [
    "code_labels = {\n",
    "    '1': 'clase baja',\n",
    "    '2': 'clase media baja',\n",
    "    '3': 'clase media',\n",
    "    '4': 'clase media alta',\n",
    "    '5': 'clase alta',\n",
    "    '-8': 'no sabe',\n",
    "    '-9': 'no contesta'\n",
    "}\n",
    "\n",
    "vc_a = pob17a['encuesta_a'].value_counts()\n",
    "vc_a.index = vc_a.index.map(code_labels)\n",
    "vc_a.plot(kind='bar', title='pobreza_17_a')\n",
    "plt.xlabel('Clase social')\n",
    "plt.ylabel('Frecuencia')\n",
    "plt.show()"
   ]
  },
  {
   "cell_type": "code",
   "execution_count": 16,
   "id": "30f1e9f5",
   "metadata": {},
   "outputs": [
    {
     "data": {
      "text/plain": [
       "(encuesta_a  pobreza_17_b\n",
       " 2019.0       2.0            536\n",
       "              4.0            288\n",
       "              3.0            259\n",
       "              1.0            241\n",
       "              5.0             33\n",
       "             -8.0             14\n",
       "              6.0              5\n",
       "             -9.0              4\n",
       " Name: count, dtype: int64,\n",
       " np.int64(1380))"
      ]
     },
     "execution_count": 16,
     "metadata": {},
     "output_type": "execute_result"
    }
   ],
   "source": [
    "pob17b.value_counts(),pob17b.value_counts().sum()"
   ]
  },
  {
   "cell_type": "code",
   "execution_count": 17,
   "id": "909d7e14",
   "metadata": {},
   "outputs": [
    {
     "data": {
      "text/plain": [
       "encuesta_a\n",
       "2019.0    1380\n",
       "Name: count, dtype: int64"
      ]
     },
     "execution_count": 17,
     "metadata": {},
     "output_type": "execute_result"
    }
   ],
   "source": [
    "pob17b['encuesta_a'].value_counts()"
   ]
  },
  {
   "cell_type": "code",
   "execution_count": 18,
   "id": "47e7fe5b",
   "metadata": {},
   "outputs": [
    {
     "data": {
      "image/png": "[encoded data removed]",
      "text/plain": [
       "<Figure size 640x480 with 1 Axes>"
      ]
     },
     "metadata": {},
     "output_type": "display_data"
    }
   ],
   "source": [
    "def new_func():\n",
    "    vc_b = pob17b['pobreza_17_b'].value_counts().sort_index()\n",
    "    vc_b.index = vc_b.index.astype(int).astype(str).map(code_labels)\n",
    "    vc_b.plot(kind='bar', title='pobreza_17_b')\n",
    "    plt.xlabel('Clase social')\n",
    "    plt.ylabel('Frecuencia')\n",
    "    plt.show()\n",
    "\n",
    "new_func()\n"
   ]
  },
  {
   "cell_type": "markdown",
   "id": "0bace25e",
   "metadata": {},
   "source": [
    "## GSE"
   ]
  },
  {
   "cell_type": "markdown",
   "id": "62a0c614",
   "metadata": {},
   "source": [
    "- 1: ABC1\n",
    "- 2: C2\n",
    "- 3: C3\n",
    "- 4: D\n",
    "- 5: E"
   ]
  },
  {
   "cell_type": "code",
   "execution_count": 19,
   "id": "a355d3de",
   "metadata": {},
   "outputs": [
    {
     "data": {
      "text/plain": [
       "gse\n",
       "3.0    17924\n",
       "4.0    15142\n",
       "2.0     4575\n",
       "1.0     1492\n",
       "5.0      806\n",
       "Name: count, dtype: int64"
      ]
     },
     "execution_count": 19,
     "metadata": {},
     "output_type": "execute_result"
    }
   ],
   "source": [
    "gse = df_raw['gse']\n",
    "gse.value_counts()"
   ]
  },
  {
   "cell_type": "code",
   "execution_count": 20,
   "id": "bf938075",
   "metadata": {},
   "outputs": [
    {
     "data": {
      "text/html": [
       "<div>\n",
       "<style scoped>\n",
       "    .dataframe tbody tr th:only-of-type {\n",
       "        vertical-align: middle;\n",
       "    }\n",
       "\n",
       "    .dataframe tbody tr th {\n",
       "        vertical-align: top;\n",
       "    }\n",
       "\n",
       "    .dataframe thead th {\n",
       "        text-align: right;\n",
       "    }\n",
       "</style>\n",
       "<table border=\"1\" class=\"dataframe\">\n",
       "  <thead>\n",
       "    <tr style=\"text-align: right;\">\n",
       "      <th></th>\n",
       "      <th>bienestar_13_c</th>\n",
       "      <th>bienestar_13_f</th>\n",
       "      <th>bienestar_13_g</th>\n",
       "      <th>bienestar_13_h</th>\n",
       "      <th>ciudadania_16</th>\n",
       "      <th>ciudadania_31</th>\n",
       "      <th>ciudadania_33_a</th>\n",
       "      <th>ciudadania_33_b</th>\n",
       "      <th>ciudadania_33_c</th>\n",
       "      <th>ciudadania_33_d</th>\n",
       "      <th>...</th>\n",
       "      <th>confianza_6_j</th>\n",
       "      <th>confianza_6_k</th>\n",
       "      <th>confianza_6_m</th>\n",
       "      <th>confianza_6_n</th>\n",
       "      <th>confianza_6_o</th>\n",
       "      <th>confianza_6_p</th>\n",
       "      <th>confianza_6_r</th>\n",
       "      <th>confianza_6_s</th>\n",
       "      <th>confianza_6_x</th>\n",
       "      <th>democracia_21</th>\n",
       "    </tr>\n",
       "  </thead>\n",
       "  <tbody>\n",
       "    <tr>\n",
       "      <th>39939</th>\n",
       "      <td>8.0</td>\n",
       "      <td>-9.0</td>\n",
       "      <td>10.0</td>\n",
       "      <td>10.0</td>\n",
       "      <td>5.0</td>\n",
       "      <td>5.0</td>\n",
       "      <td>4.0</td>\n",
       "      <td>5.0</td>\n",
       "      <td>1.0</td>\n",
       "      <td>2.0</td>\n",
       "      <td>...</td>\n",
       "      <td>4.0</td>\n",
       "      <td>4.0</td>\n",
       "      <td>3.0</td>\n",
       "      <td>1.0</td>\n",
       "      <td>1.0</td>\n",
       "      <td>4.0</td>\n",
       "      <td>3.0</td>\n",
       "      <td>4.0</td>\n",
       "      <td>1.0</td>\n",
       "      <td>3.0</td>\n",
       "    </tr>\n",
       "  </tbody>\n",
       "</table>\n",
       "<p>1 rows × 41 columns</p>\n",
       "</div>"
      ],
      "text/plain": [
       "       bienestar_13_c  bienestar_13_f  bienestar_13_g  bienestar_13_h  \\\n",
       "39939             8.0            -9.0            10.0            10.0   \n",
       "\n",
       "       ciudadania_16  ciudadania_31  ciudadania_33_a  ciudadania_33_b  \\\n",
       "39939            5.0            5.0              4.0              5.0   \n",
       "\n",
       "       ciudadania_33_c  ciudadania_33_d  ...  confianza_6_j  confianza_6_k  \\\n",
       "39939              1.0              2.0  ...            4.0            4.0   \n",
       "\n",
       "       confianza_6_m  confianza_6_n  confianza_6_o  confianza_6_p  \\\n",
       "39939            3.0            1.0            1.0            4.0   \n",
       "\n",
       "       confianza_6_r  confianza_6_s  confianza_6_x  democracia_21  \n",
       "39939            3.0            4.0            1.0            3.0  \n",
       "\n",
       "[1 rows x 41 columns]"
      ]
     },
     "execution_count": 20,
     "metadata": {},
     "output_type": "execute_result"
    }
   ],
   "source": [
    "# rows with invalid gse values\n",
    "df_raw[gse.isna()].dropna(axis=1)"
   ]
  },
  {
   "cell_type": "markdown",
   "id": "1310dc58",
   "metadata": {},
   "source": [
    "## Educación\n"
   ]
  },
  {
   "cell_type": "markdown",
   "id": "cd1fdd3d",
   "metadata": {},
   "source": [
    "esc_nivel_1: En encuestas 36, 37, 39, 40, 43, 44, 46, 49, 52, 55, 56, 57.\n",
    "- 0: No estudio\n",
    "- 1: Ed Básica Incompleta\n",
    "- 2: Ed Básica Completa\n",
    "- 3: Ed Media Incompleta\n",
    "- 4: Ed Media Completa\n",
    "- 5: Ed Superior Universitaria Incompleta\n",
    "- 6: Ed Superior Universitaria Completa\n",
    "- 7: Ed Superior No Universitaria Incompleta\n",
    "- 8: Es Superior No Universitaria Completa\n",
    "- -8: No sabe\n",
    "- -9: No contesta\n",
    "\n",
    "esc_nivel_1_b: En encuestas 58-84. Se agrega:\n",
    "- 9: Post grado, magíster, doctorado\n",
    "\n",
    "esc_nivel_1_c: En encuestas 85-59.\n",
    "- 9: Post grado incompleto\n",
    "- 10: Post grado completo"
   ]
  },
  {
   "cell_type": "code",
   "execution_count": 21,
   "id": "48c5ca34",
   "metadata": {},
   "outputs": [
    {
     "data": {
      "text/plain": [
       "esc_nivel_1_c\n",
       " 4.0     1948\n",
       " 3.0      803\n",
       " 2.0      720\n",
       " 1.0      716\n",
       " 8.0      698\n",
       " 6.0      648\n",
       " 7.0      368\n",
       " 5.0      315\n",
       " 10.0      65\n",
       " 9.0       59\n",
       " 0.0       50\n",
       "-9.0       21\n",
       "-8.0        2\n",
       "Name: count, dtype: int64"
      ]
     },
     "execution_count": 21,
     "metadata": {},
     "output_type": "execute_result"
    }
   ],
   "source": [
    "df_raw['esc_nivel_1_c'].value_counts()"
   ]
  },
  {
   "cell_type": "code",
   "execution_count": 22,
   "id": "dc985a6e",
   "metadata": {},
   "outputs": [
    {
     "data": {
      "text/plain": [
       "<Axes: xlabel='esc_nivel_1_b'>"
      ]
     },
     "execution_count": 22,
     "metadata": {},
     "output_type": "execute_result"
    },
    {
     "data": {
      "image/png": "[encoded data removed]",
      "text/plain": [
       "<Figure size 640x480 with 1 Axes>"
      ]
     },
     "metadata": {},
     "output_type": "display_data"
    }
   ],
   "source": [
    "code_labels_1_b = {\n",
    "    '0':  'No estudió',\n",
    "    '1':  'Ed Básica Incompleta',\n",
    "    '2':  'Ed Básica Completa',\n",
    "    '3':  'Ed Media Incompleta',\n",
    "    '4':  'Ed Media Completa',\n",
    "    '5':  'Ed Superior Universitaria Incompleta',\n",
    "    '6':  'Ed Superior Universitaria Completa',\n",
    "    '7':  'Ed Superior No Universitaria Incompleta',\n",
    "    '8':  'Ed Superior No Universitaria Completa',\n",
    "    '9':  'Post grado, magíster, doctorado',\n",
    "    '-8': 'No sabe',\n",
    "    '-9': 'No contesta'\n",
    "}\n",
    "\n",
    "aux_plot_bar(df_raw['esc_nivel_1_b'], code_labels_1_b)"
   ]
  },
  {
   "cell_type": "code",
   "execution_count": 23,
   "id": "49c158d4",
   "metadata": {},
   "outputs": [
    {
     "data": {
      "text/plain": [
       "<Axes: xlabel='esc_nivel_1_c'>"
      ]
     },
     "execution_count": 23,
     "metadata": {},
     "output_type": "execute_result"
    },
    {
     "data": {
      "image/png": "[encoded data removed]",
      "text/plain": [
       "<Figure size 640x480 with 1 Axes>"
      ]
     },
     "metadata": {},
     "output_type": "display_data"
    }
   ],
   "source": [
    "code_labels_1_c = {\n",
    "    '0':  'No estudió',\n",
    "    '1':  'Ed Básica Incompleta',\n",
    "    '2':  'Ed Básica Completa',\n",
    "    '3':  'Ed Media Incompleta',\n",
    "    '4':  'Ed Media Completa',\n",
    "    '5':  'Ed Superior Universitaria Incompleta',\n",
    "    '6':  'Ed Superior Universitaria Completa',\n",
    "    '7':  'Ed Superior No Universitaria Incompleta',\n",
    "    '8':  'Ed Superior No Universitaria Completa',\n",
    "    '9':  'Post grado incompleto',\n",
    "    '10': 'Post grado completo',\n",
    "    '-8': 'No sabe',\n",
    "    '-9': 'No contesta'\n",
    "}\n",
    "\n",
    "aux_plot_bar(df_raw['esc_nivel_1_c'], code_labels_1_c)"
   ]
  },
  {
   "cell_type": "code",
   "execution_count": 24,
   "id": "ac980866",
   "metadata": {},
   "outputs": [
    {
     "data": {
      "text/html": [
       "<div>\n",
       "<style scoped>\n",
       "    .dataframe tbody tr th:only-of-type {\n",
       "        vertical-align: middle;\n",
       "    }\n",
       "\n",
       "    .dataframe tbody tr th {\n",
       "        vertical-align: top;\n",
       "    }\n",
       "\n",
       "    .dataframe thead th {\n",
       "        text-align: right;\n",
       "    }\n",
       "</style>\n",
       "<table border=\"1\" class=\"dataframe\">\n",
       "  <thead>\n",
       "    <tr style=\"text-align: right;\">\n",
       "      <th></th>\n",
       "      <th>aleatorio_deck</th>\n",
       "      <th>aleatorio_deck_1</th>\n",
       "      <th>aleatorio_deck_2</th>\n",
       "      <th>aleatorio_deck_3</th>\n",
       "      <th>aleatorio_deck_4</th>\n",
       "      <th>anomia_1_a</th>\n",
       "      <th>anomia_1_b</th>\n",
       "      <th>anomia_1_c</th>\n",
       "      <th>anomia_1_d</th>\n",
       "      <th>anomia_1_e</th>\n",
       "      <th>...</th>\n",
       "      <th>vivienda_6_b</th>\n",
       "      <th>vivienda_6_c</th>\n",
       "      <th>vivienda_6_d</th>\n",
       "      <th>vivienda_6_e</th>\n",
       "      <th>vivienda_6_f</th>\n",
       "      <th>vivienda_6_g</th>\n",
       "      <th>vivienda_7</th>\n",
       "      <th>vivienda_8</th>\n",
       "      <th>vivienda_9</th>\n",
       "      <th>zona_u_r</th>\n",
       "    </tr>\n",
       "  </thead>\n",
       "  <tbody>\n",
       "  </tbody>\n",
       "</table>\n",
       "<p>0 rows × 4390 columns</p>\n",
       "</div>"
      ],
      "text/plain": [
       "Empty DataFrame\n",
       "Columns: [aleatorio_deck, aleatorio_deck_1, aleatorio_deck_2, aleatorio_deck_3, aleatorio_deck_4, anomia_1_a, anomia_1_b, anomia_1_c, anomia_1_d, anomia_1_e, anomia_1_f, anomia_1_g, anomia_1_h, anomia_2_a, anomia_2_b, anomia_2_c, anomia_2_d, anomia_2_e, anomia_2_f, anomia_2_g, anomia_2_h, anomia_2_i, anomia_2_j, anomia_3, anomia_4_a, anomia_4_b, anomia_4_c, anomia_4_d, anomia_4_e, anomia_4_f, anomia_4_g, bienestar_1, bienestar_10_a, bienestar_10_b, bienestar_10_c, bienestar_11_a, bienestar_11_b, bienestar_12_a, bienestar_12_b, bienestar_12_c, bienestar_12_d, bienestar_12_e, bienestar_12_f, bienestar_12_g, bienestar_12_h, bienestar_12_i, bienestar_12_j, bienestar_12_k, bienestar_12_l, bienestar_12_m, bienestar_12_n, bienestar_12_o, bienestar_12_p, bienestar_13_a, bienestar_13_b, bienestar_13_c, bienestar_13_d, bienestar_13_e, bienestar_13_f, bienestar_13_g, bienestar_13_h, bienestar_13_i, bienestar_13_j, bienestar_13_k, bienestar_14_a, bienestar_14_b, bienestar_14_c, bienestar_14_d, bienestar_14_e, bienestar_14_f, bienestar_15, bienestar_16_a, bienestar_16_b, bienestar_16_c, bienestar_16_d, bienestar_16_e, bienestar_16_f, bienestar_16_g, bienestar_16_h, bienestar_17_a, bienestar_17_b, bienestar_17_c, bienestar_17_d, bienestar_17_e, bienestar_17_f, bienestar_17_g, bienestar_17_h, bienestar_17_i, bienestar_17_j, bienestar_17_k, bienestar_17_l, bienestar_18_a, bienestar_18_b, bienestar_18_c, bienestar_18_d, bienestar_18_e, bienestar_18_f, bienestar_18_g, bienestar_19_a, bienestar_19_b, ...]\n",
       "Index: []\n",
       "\n",
       "[0 rows x 4390 columns]"
      ]
     },
     "execution_count": 24,
     "metadata": {},
     "output_type": "execute_result"
    }
   ],
   "source": [
    "# are there any esc_nivel_1 values?\n",
    "df_raw[~df_raw['esc_nivel_1'].isna()]"
   ]
  },
  {
   "cell_type": "markdown",
   "id": "3a68dabb",
   "metadata": {},
   "source": [
    "## Identidad política\n"
   ]
  },
  {
   "cell_type": "markdown",
   "id": "c324c5ce",
   "metadata": {},
   "source": [
    "iden_pol_1: Como Ud. sabe, tradicionalmente en nuestro país la gente define las posiciones políticas como más cercanas a la izquierda, al centro o a la derecha. Tenemos representadas en esta tarjeta las distintas posiciones políticas. Por favor, indíqueme, ¿con cuál se identifica más o con cuál posición simpatiza Ud. más?\n",
    "- 1    Derecha\n",
    "- 2    Centro derecha\n",
    "- 3    Centro\n",
    "- 4    Centro izquierda\n",
    "- 5    Izquierda\n",
    "- 6    Independiente\n",
    "- 7    Ninguna\n",
    "- -8   No sabe\n",
    "- -9   No contesta\n"
   ]
  },
  {
   "cell_type": "code",
   "execution_count": 25,
   "id": "138c2c05",
   "metadata": {},
   "outputs": [
    {
     "data": {
      "text/plain": [
       "iden_pol_1\n",
       " 7.0    15145\n",
       " 3.0     2906\n",
       " 5.0     2711\n",
       " 1.0     2466\n",
       " 4.0     2348\n",
       " 2.0     1369\n",
       " 6.0     1020\n",
       "-8.0      691\n",
       "-9.0      615\n",
       "Name: count, dtype: int64"
      ]
     },
     "execution_count": 25,
     "metadata": {},
     "output_type": "execute_result"
    }
   ],
   "source": [
    "df_raw['iden_pol_1'].value_counts()"
   ]
  },
  {
   "cell_type": "code",
   "execution_count": 26,
   "id": "c137ad1f",
   "metadata": {},
   "outputs": [
    {
     "data": {
      "text/plain": [
       "<Axes: xlabel='iden_pol_1'>"
      ]
     },
     "execution_count": 26,
     "metadata": {},
     "output_type": "execute_result"
    },
    {
     "data": {
      "image/png": "[encoded data removed]",
      "text/plain": [
       "<Figure size 640x480 with 1 Axes>"
      ]
     },
     "metadata": {},
     "output_type": "display_data"
    }
   ],
   "source": [
    "code_labels_iden_pol_1 = {\n",
    "    '1':  'Derecha',\n",
    "    '2':  'Centro derecha',\n",
    "    '3':  'Centro',\n",
    "    '4':  'Centro izquierda',\n",
    "    '5':  'Izquierda',\n",
    "    '6':  'Independiente',\n",
    "    '7':  'Ninguna',\n",
    "    '-8': 'No sabe',\n",
    "    '-9': 'No contesta'\n",
    "}\n",
    "\n",
    "aux_plot_bar(df_raw['iden_pol_1'], code_labels_iden_pol_1)"
   ]
  },
  {
   "cell_type": "code",
   "execution_count": null,
   "id": "6a9a8a15",
   "metadata": {},
   "outputs": [],
   "source": []
  },
  {
   "cell_type": "markdown",
   "id": "20260720",
   "metadata": {},
   "source": [
    "## Región"
   ]
  },
  {
   "cell_type": "markdown",
   "id": "2dd27751",
   "metadata": {},
   "source": [
    "region_2   Region desde Encuesta 62 hasta 81\n",
    "- 1    Región de Tarapaca\n",
    "- 2    Región de Antofagasta\n",
    "- 3    Región de Atacama\n",
    "- 4    Región de Coquimbo\n",
    "- 5    Región de Valparaíso\n",
    "- 6    Región del Libertador General Bernardo O'Higgins\n",
    "- 7    Región del Maule\n",
    "- 8    Región del Bio-bío\n",
    "- 9    Región de la Araucanía\n",
    "- 10   Región de los Lagos\n",
    "- 11   Región de Aysén del General Carlos Ibáñez del Campo\n",
    "- 12   Región de Magallanes y de la Antártica Chilena\n",
    "- 13   Región Metropolitana\n",
    "- 14   Los Ríos\n",
    "- 15   Arica y Parinacota\n",
    "\n",
    "\n",
    "region_3   Region desde Encuesta 82 hasta 89\n",
    "- 1    Región de Tarapaca\n",
    "- 2    Región de Antofagasta\n",
    "- 3    Región de Atacama\n",
    "- 4    Región de Coquimbo\n",
    "- 5    Región de Valparaíso\n",
    "- 6    Región del Libertador General Bernardo O'Higgins\n",
    "- 7    Región del Maule\n",
    "- 8    Región del Bio-bío\n",
    "- 9    Región de la Araucanía\n",
    "- 10   Región de los Lagos\n",
    "- 11   Región de Aysén del General Carlos Ibáñez del Campo\n",
    "- 12   Región de Magallanes y de la Antártica Chilena\n",
    "- 13   Región Metropolitana\n",
    "- 14   Los Ríos\n",
    "- 15   Arica y Parinacota\n",
    "- 16   Región de Ñuble"
   ]
  },
  {
   "cell_type": "code",
   "execution_count": 27,
   "id": "89c028c5",
   "metadata": {},
   "outputs": [
    {
     "data": {
      "text/plain": [
       "region_2\n",
       "13.0    10226\n",
       "8.0      3684\n",
       "5.0      2924\n",
       "9.0      1808\n",
       "7.0      1769\n",
       "6.0      1549\n",
       "10.0     1403\n",
       "4.0      1172\n",
       "2.0      1083\n",
       "14.0      718\n",
       "1.0       401\n",
       "15.0      378\n",
       "3.0       376\n",
       "12.0      299\n",
       "11.0      103\n",
       "Name: count, dtype: int64"
      ]
     },
     "execution_count": 27,
     "metadata": {},
     "output_type": "execute_result"
    }
   ],
   "source": [
    "df_raw['region_2'].value_counts()"
   ]
  },
  {
   "cell_type": "code",
   "execution_count": 28,
   "id": "41d466e0",
   "metadata": {},
   "outputs": [
    {
     "data": {
      "text/plain": [
       "region_3\n",
       "13.0    5148\n",
       "5.0     1232\n",
       "8.0     1006\n",
       "7.0      704\n",
       "9.0      669\n",
       "6.0      567\n",
       "4.0      519\n",
       "10.0     503\n",
       "2.0      354\n",
       "16.0     336\n",
       "14.0     311\n",
       "1.0      216\n",
       "3.0      180\n",
       "15.0     129\n",
       "12.0     108\n",
       "11.0      64\n",
       "Name: count, dtype: int64"
      ]
     },
     "execution_count": 28,
     "metadata": {},
     "output_type": "execute_result"
    }
   ],
   "source": [
    "df_raw['region_3'].value_counts()"
   ]
  },
  {
   "cell_type": "markdown",
   "id": "50e84151",
   "metadata": {},
   "source": [
    "## Religión"
   ]
  },
  {
   "cell_type": "markdown",
   "id": "d961c520",
   "metadata": {},
   "source": [
    "religion_1   ¿Podría Ud. decirme la religión o iglesia a la que pertenece o se siente más cercano? [8 categorías]\n",
    "- 1    Catolica\n",
    "- 2    Evangelica\n",
    "- 3    Testigo de jehova\n",
    "- 4    Judia\n",
    "- 5    Mormona\n",
    "- 6    Musulmana\n",
    "- 7    Ortodoxa\n",
    "- 8    Otra religion o credo\n",
    "- 9    Ninguna\n",
    "- 10   Ateo\n",
    "- 11   Agnostico\n",
    "- 13   Otras iglesias y religiones cristianas # -> ya no se usa\n",
    "- -8   No sabe\n",
    "- -9   No contesta\n"
   ]
  },
  {
   "cell_type": "code",
   "execution_count": 29,
   "id": "62fce18d",
   "metadata": {},
   "outputs": [
    {
     "data": {
      "text/plain": [
       "religion_1\n",
       " 1.0     20426\n",
       " 2.0      5692\n",
       " 9.0      5233\n",
       "-9.0       535\n",
       " 8.0       509\n",
       " 3.0       319\n",
       " 11.0      290\n",
       " 10.0      256\n",
       " 5.0       232\n",
       "-8.0        72\n",
       " 4.0        24\n",
       " 7.0        16\n",
       " 6.0        10\n",
       "Name: count, dtype: int64"
      ]
     },
     "execution_count": 29,
     "metadata": {},
     "output_type": "execute_result"
    }
   ],
   "source": [
    "df_raw['religion_1'].value_counts()"
   ]
  },
  {
   "cell_type": "markdown",
   "id": "749ef8a5",
   "metadata": {},
   "source": [
    "## Vivienda"
   ]
  },
  {
   "cell_type": "markdown",
   "id": "cfe0e686",
   "metadata": {},
   "source": [
    "zona_u_r: Zona Urbano/Rural\n",
    "- 1   Urbano\n",
    "- 2   Rural\n",
    "\n"
   ]
  },
  {
   "cell_type": "code",
   "execution_count": 30,
   "id": "85d28acf",
   "metadata": {},
   "outputs": [
    {
     "data": {
      "text/plain": [
       "zona_u_r\n",
       "1.0    33839\n",
       "2.0     6100\n",
       "Name: count, dtype: int64"
      ]
     },
     "execution_count": 30,
     "metadata": {},
     "output_type": "execute_result"
    }
   ],
   "source": [
    "df_raw['zona_u_r'].value_counts()"
   ]
  },
  {
   "cell_type": "markdown",
   "id": "b070da2b",
   "metadata": {},
   "source": [
    "# Base limpia"
   ]
  },
  {
   "cell_type": "code",
   "execution_count": 31,
   "id": "ca60c133",
   "metadata": {},
   "outputs": [],
   "source": [
    "variables_of_interest = {\n",
    "    # CUÁNDO ENCUESTA\n",
    "    'a': ['encuesta_a'], # Año\n",
    "    'm': ['encuesta_m'], # Mes\n",
    "    # SEXO\n",
    "    'sexo': ['sexo'], # 1 -> Hombre, 2 -> Mujer\n",
    "    # EDAD\n",
    "    'edad': ['edad'], # Edad en años\n",
    "    # NIVEL SOCIOECONÓMICO\n",
    "    'pobreza': [\n",
    "        'pobreza_17_a',\n",
    "        'pobreza_17_b',\n",
    "        ],\n",
    "    # NIVEL EDUCATIVO\n",
    "    'esc_nivel': [\n",
    "        'esc_nivel_1_b',\n",
    "        'esc_nivel_1_c',\n",
    "        ],\n",
    "    # IDENTIDAD POLÍTICA\n",
    "    'iden_pol': ['iden_pol_1'],\n",
    "    # REGIÓN\n",
    "    'region': [\n",
    "        'region_2', # Region desde Encuesta 62 hasta 81\n",
    "        'region_3', # Region desde Encuesta 82 hasta 89\n",
    "        ], \n",
    "    # RELIGIÓN\n",
    "    'religion': ['religion_1'],\n",
    "    # ZONA URBANA/RURAL\n",
    "    'zona_u_r': ['zona_u_r'],\n",
    "}"
   ]
  },
  {
   "cell_type": "code",
   "execution_count": 32,
   "id": "f4b8078c",
   "metadata": {},
   "outputs": [],
   "source": [
    "# Agregar año y mes de la encuesta\n",
    "# df_clean = df_raw[['encuesta_a', 'encuesta_m']].rename(\n",
    "#     columns={\n",
    "#         'encuesta_a': 'a',\n",
    "#         'encuesta_m': 'm'\n",
    "#     }\n",
    "\n",
    "# Una forma de lidiar con variaciones entre preguntas\n",
    "# for var, cols in variables_of_interest.items():\n",
    "#     if len(cols) == 1:\n",
    "#         df_clean[var] = df_raw[cols[0]]\n",
    "#     else:\n",
    "#         df_clean[var] = df_raw[cols].apply(lambda x: x.dropna().iloc[0] if not x.dropna().empty else None, axis=1)"
   ]
  },
  {
   "cell_type": "code",
   "execution_count": 33,
   "id": "d503c54e",
   "metadata": {},
   "outputs": [
    {
     "data": {
      "text/html": [
       "<div>\n",
       "<style scoped>\n",
       "    .dataframe tbody tr th:only-of-type {\n",
       "        vertical-align: middle;\n",
       "    }\n",
       "\n",
       "    .dataframe tbody tr th {\n",
       "        vertical-align: top;\n",
       "    }\n",
       "\n",
       "    .dataframe thead th {\n",
       "        text-align: right;\n",
       "    }\n",
       "</style>\n",
       "<table border=\"1\" class=\"dataframe\">\n",
       "  <thead>\n",
       "    <tr style=\"text-align: right;\">\n",
       "      <th></th>\n",
       "      <th>encuesta_a</th>\n",
       "      <th>encuesta_m</th>\n",
       "      <th>sexo</th>\n",
       "      <th>edad</th>\n",
       "      <th>pobreza_17_a</th>\n",
       "      <th>pobreza_17_b</th>\n",
       "      <th>esc_nivel_1_b</th>\n",
       "      <th>esc_nivel_1_c</th>\n",
       "      <th>iden_pol_1</th>\n",
       "      <th>region_2</th>\n",
       "      <th>region_3</th>\n",
       "      <th>religion_1</th>\n",
       "      <th>zona_u_r</th>\n",
       "    </tr>\n",
       "  </thead>\n",
       "  <tbody>\n",
       "    <tr>\n",
       "      <th>0</th>\n",
       "      <td>2010</td>\n",
       "      <td>7</td>\n",
       "      <td>2.0</td>\n",
       "      <td>80</td>\n",
       "      <td>NaN</td>\n",
       "      <td>NaN</td>\n",
       "      <td>1.0</td>\n",
       "      <td>NaN</td>\n",
       "      <td>2.0</td>\n",
       "      <td>15.0</td>\n",
       "      <td>NaN</td>\n",
       "      <td>1.0</td>\n",
       "      <td>1.0</td>\n",
       "    </tr>\n",
       "    <tr>\n",
       "      <th>1</th>\n",
       "      <td>2010</td>\n",
       "      <td>7</td>\n",
       "      <td>2.0</td>\n",
       "      <td>80</td>\n",
       "      <td>NaN</td>\n",
       "      <td>NaN</td>\n",
       "      <td>2.0</td>\n",
       "      <td>NaN</td>\n",
       "      <td>5.0</td>\n",
       "      <td>15.0</td>\n",
       "      <td>NaN</td>\n",
       "      <td>1.0</td>\n",
       "      <td>1.0</td>\n",
       "    </tr>\n",
       "    <tr>\n",
       "      <th>2</th>\n",
       "      <td>2010</td>\n",
       "      <td>7</td>\n",
       "      <td>2.0</td>\n",
       "      <td>20</td>\n",
       "      <td>NaN</td>\n",
       "      <td>NaN</td>\n",
       "      <td>4.0</td>\n",
       "      <td>NaN</td>\n",
       "      <td>1.0</td>\n",
       "      <td>15.0</td>\n",
       "      <td>NaN</td>\n",
       "      <td>9.0</td>\n",
       "      <td>1.0</td>\n",
       "    </tr>\n",
       "    <tr>\n",
       "      <th>3</th>\n",
       "      <td>2010</td>\n",
       "      <td>7</td>\n",
       "      <td>1.0</td>\n",
       "      <td>18</td>\n",
       "      <td>NaN</td>\n",
       "      <td>NaN</td>\n",
       "      <td>4.0</td>\n",
       "      <td>NaN</td>\n",
       "      <td>3.0</td>\n",
       "      <td>15.0</td>\n",
       "      <td>NaN</td>\n",
       "      <td>9.0</td>\n",
       "      <td>1.0</td>\n",
       "    </tr>\n",
       "    <tr>\n",
       "      <th>4</th>\n",
       "      <td>2010</td>\n",
       "      <td>7</td>\n",
       "      <td>2.0</td>\n",
       "      <td>74</td>\n",
       "      <td>NaN</td>\n",
       "      <td>NaN</td>\n",
       "      <td>6.0</td>\n",
       "      <td>NaN</td>\n",
       "      <td>7.0</td>\n",
       "      <td>15.0</td>\n",
       "      <td>NaN</td>\n",
       "      <td>2.0</td>\n",
       "      <td>1.0</td>\n",
       "    </tr>\n",
       "    <tr>\n",
       "      <th>...</th>\n",
       "      <td>...</td>\n",
       "      <td>...</td>\n",
       "      <td>...</td>\n",
       "      <td>...</td>\n",
       "      <td>...</td>\n",
       "      <td>...</td>\n",
       "      <td>...</td>\n",
       "      <td>...</td>\n",
       "      <td>...</td>\n",
       "      <td>...</td>\n",
       "      <td>...</td>\n",
       "      <td>...</td>\n",
       "      <td>...</td>\n",
       "    </tr>\n",
       "    <tr>\n",
       "      <th>39934</th>\n",
       "      <td>2024</td>\n",
       "      <td>6</td>\n",
       "      <td>1.0</td>\n",
       "      <td>28</td>\n",
       "      <td>NaN</td>\n",
       "      <td>NaN</td>\n",
       "      <td>NaN</td>\n",
       "      <td>4.0</td>\n",
       "      <td>NaN</td>\n",
       "      <td>NaN</td>\n",
       "      <td>13.0</td>\n",
       "      <td>NaN</td>\n",
       "      <td>1.0</td>\n",
       "    </tr>\n",
       "    <tr>\n",
       "      <th>39935</th>\n",
       "      <td>2024</td>\n",
       "      <td>6</td>\n",
       "      <td>1.0</td>\n",
       "      <td>28</td>\n",
       "      <td>NaN</td>\n",
       "      <td>NaN</td>\n",
       "      <td>NaN</td>\n",
       "      <td>4.0</td>\n",
       "      <td>NaN</td>\n",
       "      <td>NaN</td>\n",
       "      <td>13.0</td>\n",
       "      <td>NaN</td>\n",
       "      <td>1.0</td>\n",
       "    </tr>\n",
       "    <tr>\n",
       "      <th>39936</th>\n",
       "      <td>2024</td>\n",
       "      <td>6</td>\n",
       "      <td>1.0</td>\n",
       "      <td>18</td>\n",
       "      <td>NaN</td>\n",
       "      <td>NaN</td>\n",
       "      <td>NaN</td>\n",
       "      <td>4.0</td>\n",
       "      <td>NaN</td>\n",
       "      <td>NaN</td>\n",
       "      <td>9.0</td>\n",
       "      <td>NaN</td>\n",
       "      <td>1.0</td>\n",
       "    </tr>\n",
       "    <tr>\n",
       "      <th>39937</th>\n",
       "      <td>2024</td>\n",
       "      <td>6</td>\n",
       "      <td>2.0</td>\n",
       "      <td>42</td>\n",
       "      <td>NaN</td>\n",
       "      <td>NaN</td>\n",
       "      <td>NaN</td>\n",
       "      <td>4.0</td>\n",
       "      <td>NaN</td>\n",
       "      <td>NaN</td>\n",
       "      <td>9.0</td>\n",
       "      <td>NaN</td>\n",
       "      <td>2.0</td>\n",
       "    </tr>\n",
       "    <tr>\n",
       "      <th>39938</th>\n",
       "      <td>2024</td>\n",
       "      <td>6</td>\n",
       "      <td>1.0</td>\n",
       "      <td>34</td>\n",
       "      <td>NaN</td>\n",
       "      <td>NaN</td>\n",
       "      <td>NaN</td>\n",
       "      <td>4.0</td>\n",
       "      <td>NaN</td>\n",
       "      <td>NaN</td>\n",
       "      <td>7.0</td>\n",
       "      <td>NaN</td>\n",
       "      <td>1.0</td>\n",
       "    </tr>\n",
       "  </tbody>\n",
       "</table>\n",
       "<p>39939 rows × 13 columns</p>\n",
       "</div>"
      ],
      "text/plain": [
       "       encuesta_a  encuesta_m sexo  edad pobreza_17_a pobreza_17_b  \\\n",
       "0            2010           7  2.0    80          NaN          NaN   \n",
       "1            2010           7  2.0    80          NaN          NaN   \n",
       "2            2010           7  2.0    20          NaN          NaN   \n",
       "3            2010           7  1.0    18          NaN          NaN   \n",
       "4            2010           7  2.0    74          NaN          NaN   \n",
       "...           ...         ...  ...   ...          ...          ...   \n",
       "39934        2024           6  1.0    28          NaN          NaN   \n",
       "39935        2024           6  1.0    28          NaN          NaN   \n",
       "39936        2024           6  1.0    18          NaN          NaN   \n",
       "39937        2024           6  2.0    42          NaN          NaN   \n",
       "39938        2024           6  1.0    34          NaN          NaN   \n",
       "\n",
       "      esc_nivel_1_b esc_nivel_1_c iden_pol_1 region_2 region_3 religion_1  \\\n",
       "0               1.0           NaN        2.0     15.0      NaN        1.0   \n",
       "1               2.0           NaN        5.0     15.0      NaN        1.0   \n",
       "2               4.0           NaN        1.0     15.0      NaN        9.0   \n",
       "3               4.0           NaN        3.0     15.0      NaN        9.0   \n",
       "4               6.0           NaN        7.0     15.0      NaN        2.0   \n",
       "...             ...           ...        ...      ...      ...        ...   \n",
       "39934           NaN           4.0        NaN      NaN     13.0        NaN   \n",
       "39935           NaN           4.0        NaN      NaN     13.0        NaN   \n",
       "39936           NaN           4.0        NaN      NaN      9.0        NaN   \n",
       "39937           NaN           4.0        NaN      NaN      9.0        NaN   \n",
       "39938           NaN           4.0        NaN      NaN      7.0        NaN   \n",
       "\n",
       "      zona_u_r  \n",
       "0          1.0  \n",
       "1          1.0  \n",
       "2          1.0  \n",
       "3          1.0  \n",
       "4          1.0  \n",
       "...        ...  \n",
       "39934      1.0  \n",
       "39935      1.0  \n",
       "39936      1.0  \n",
       "39937      2.0  \n",
       "39938      1.0  \n",
       "\n",
       "[39939 rows x 13 columns]"
      ]
     },
     "execution_count": 33,
     "metadata": {},
     "output_type": "execute_result"
    }
   ],
   "source": [
    "# TODO: Column types should be set explicitly\n",
    "# TODO: Join with dictionary to get labels\n",
    "# TODO: Maybe consider grouping some variables that were more granular in different surveys, like postgrado incompleto/completo\n",
    "# TODO: Dump to JSONL\n",
    "\n",
    "# Otra forma de lidiar con variaciones entre preguntas\n",
    "flat_variables_of_interest = [v for vals in variables_of_interest.values() for v in vals]\n",
    "df_clean = df_raw[flat_variables_of_interest].copy().dropna(how='all')\n",
    "\n",
    "# Determine numeric and categoric columns\n",
    "integer_cols = [\n",
    "    'encuesta_a',\n",
    "    'encuesta_m',\n",
    "    'edad'\n",
    "]\n",
    "categoric_cols = [\n",
    "    'sexo',\n",
    "    'pobreza_17_a',\n",
    "    'pobreza_17_b',\n",
    "    'esc_nivel_1_b',\n",
    "    'esc_nivel_1_c',\n",
    "    'iden_pol_1',\n",
    "    'region_2',\n",
    "    'region_3',\n",
    "    'religion_1',\n",
    "    'zona_u_r'\n",
    "]\n",
    "\n",
    "for col in integer_cols:\n",
    "    df_clean[col] = pd.to_numeric(df_clean[col], errors='coerce').astype('Int64') # Int64 allows for NaN values\n",
    "for col in categoric_cols:\n",
    "    df_clean[col] = pd.Categorical(df_clean[col], ordered=False)\n",
    "\n",
    "df_clean"
   ]
  }
 ],
 "metadata": {
  "kernelspec": {
   "display_name": "base",
   "language": "python",
   "name": "python3"
  },
  "language_info": {
   "codemirror_mode": {
    "name": "ipython",
    "version": 3
   },
   "file_extension": ".py",
   "mimetype": "text/x-python",
   "name": "python",
   "nbconvert_exporter": "python",
   "pygments_lexer": "ipython3",
   "version": "3.13.5"
  }
 },
 "nbformat": 4,
 "nbformat_minor": 5
}
